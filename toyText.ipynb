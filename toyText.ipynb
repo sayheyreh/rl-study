{
 "cells": [
  {
   "cell_type": "code",
   "execution_count": 1,
   "metadata": {},
   "outputs": [],
   "source": [
    "import gym\n",
    "import numpy as np"
   ]
  },
  {
   "cell_type": "code",
   "execution_count": 2,
   "metadata": {},
   "outputs": [],
   "source": [
    "env = gym.make(\"Blackjack-v1\",)"
   ]
  },
  {
   "cell_type": "code",
   "execution_count": 3,
   "metadata": {},
   "outputs": [
    {
     "name": "stdout",
     "output_type": "stream",
     "text": [
      "action space: Discrete(2)\n",
      "observation space: Tuple(Discrete(32), Discrete(11), Discrete(2))\n"
     ]
    }
   ],
   "source": [
    "env.reset()\n",
    "print(f\"action space: {env.action_space}\")\n",
    "print(f\"observation space: {env.observation_space}\")"
   ]
  },
  {
   "cell_type": "code",
   "execution_count": 4,
   "metadata": {},
   "outputs": [
    {
     "name": "stdout",
     "output_type": "stream",
     "text": [
      "1\n"
     ]
    }
   ],
   "source": [
    "action = env.action_space.sample()\n",
    "print(action)"
   ]
  },
  {
   "cell_type": "code",
   "execution_count": 82,
   "metadata": {},
   "outputs": [],
   "source": [
    "def play():\n",
    "    terminated = False\n",
    "    state = env.reset()\n",
    "    episode =[]\n",
    "    while not terminated:\n",
    "        action = 0 #env.action_space.sample()\n",
    "        next_state, reward, terminated, info = env.step(action)\n",
    "        episode.append([state, reward, terminated, next_state])\n",
    "        state = next_state\n",
    "    \n",
    "    print(env.dealer)\n",
    "    if(reward==0):\n",
    "        print(f\"Draw {reward}\")\n",
    "    elif (reward==1):\n",
    "        print(f\"Win {reward}\")\n",
    "    else:   \n",
    "        print(f\"loss {reward}\")\n",
    "    \n",
    "    print(episode)"
   ]
  },
  {
   "cell_type": "code",
   "execution_count": 88,
   "metadata": {},
   "outputs": [
    {
     "name": "stdout",
     "output_type": "stream",
     "text": [
      "[10, 10]\n",
      "Draw 0.0\n",
      "[[(20, 10, False), 0.0, True, (20, 10, False)]]\n"
     ]
    }
   ],
   "source": [
    "play()"
   ]
  }
 ],
 "metadata": {
  "kernelspec": {
   "display_name": "gym",
   "language": "python",
   "name": "python3"
  },
  "language_info": {
   "codemirror_mode": {
    "name": "ipython",
    "version": 3
   },
   "file_extension": ".py",
   "mimetype": "text/x-python",
   "name": "python",
   "nbconvert_exporter": "python",
   "pygments_lexer": "ipython3",
   "version": "3.12.1"
  }
 },
 "nbformat": 4,
 "nbformat_minor": 2
}
