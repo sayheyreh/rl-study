{
 "cells": [
  {
   "cell_type": "code",
   "execution_count": 141,
   "metadata": {},
   "outputs": [],
   "source": [
    "import gym\n",
    "from gym import spaces\n",
    "import numpy as np\n",
    "from pprint import pprint\n",
    "from typing import Tuple, Dict, Optional, Iterable"
   ]
  },
  {
   "cell_type": "code",
   "execution_count": 425,
   "metadata": {},
   "outputs": [],
   "source": [
    "import matplotlib.pyplot as plt\n",
    "%matplotlib inline"
   ]
  },
  {
   "cell_type": "code",
   "execution_count": 464,
   "metadata": {},
   "outputs": [],
   "source": [
    "class TicTacToe(gym.Env):\n",
    "    def __init__(self) -> None:\n",
    "        super().__init__()\n",
    "        self.board = self._setBoard() # THE CURRENT STATE IS THE BOARD\n",
    "        self.turn = 1 # Player ones turn by default\n",
    "        self.players = [1,-1]\n",
    "        self.total_turns = 0\n",
    "        self.action_space = spaces.MultiDiscrete([3,3])\n",
    "        self.observation_space = spaces.Discrete(362880) #there are 9 factorial possible states, self.board stores current state\n",
    "        self.winner = None\n",
    "\n",
    "    def step(self, player: int , action: Tuple[int,int]):\n",
    "        info = {\"winner\":0}\n",
    "        reward = 0\n",
    "        if action[0] not in [0,1,2] or action[1] not in [0,1,2]:\n",
    "            raise ValueError(f\"Incorrect Move {action}, player must move within the board\\n{self.board}\")\n",
    "        if player not in [1,-1]:\n",
    "            raise ValueError(f\"Incorrect player {player}, player can only be 1 or -1\")\n",
    "        if self.turn == player:\n",
    "            if (self._checkValidAction(action)):\n",
    "                reward = self.compute_reward()\n",
    "                self.board[action[0],action[1]] = player\n",
    "                self.turn = -player\n",
    "                self.total_turns+=1\n",
    "\n",
    "        else:\n",
    "            print(f\"it is {'p1' if self.turn==1 else 'p2'}'s turn\")\n",
    "\n",
    "        if (self.checkEnd()==1 or self.checkEnd()==-1):\n",
    "            done = True\n",
    "            info[\"winner\"] = self.checkEnd()\n",
    "        elif (self.checkEnd()==100):\n",
    "            done = True\n",
    "            info[\"winner\"] = \"draw\"\n",
    "        else:\n",
    "            done = False\n",
    "\n",
    "        return (self.turn, reward, done, info) \n",
    "\n",
    "\n",
    "    def compute_reward(self,):\n",
    "        if self.checkEnd()==1:\n",
    "            reward = 100\n",
    "        elif self.checkEnd()==-1:\n",
    "            reward = 100\n",
    "        else:\n",
    "            reward = 0\n",
    "        return reward\n",
    "\n",
    "    def _checkValidAction(self,action: Tuple[int,int]):\n",
    "        if (self.board[action[0],action[1]]!=0):\n",
    "            print(f\"{action} already filled by {'p1' if self.board[action[0],action[1]]==1 else 'p2'}\")\n",
    "            return False\n",
    "        return True\n",
    "\n",
    "\n",
    "    def checkEnd(self) -> bool: # Can also use sum of the rows/cols/diagonals = 3 or -3 to judge winner\n",
    "        p1_win = np.ones(3)\n",
    "        p2_win = np.ones(3) * -1\n",
    "    \n",
    "        for i in range(3):\n",
    "            if (np.array_equal(self.board[i], p1_win)):\n",
    "                self.winner=\"p1\"\n",
    "                return 1\n",
    "            elif (np.array_equal(self.board[i], p2_win)):\n",
    "                self.winner=\"p2\"\n",
    "                return -1\n",
    "            \n",
    "        for j in range(3): \n",
    "            t=[]\n",
    "            for i in range(3):\n",
    "                t.append(self.board[i,j])\n",
    "            t = np.array(t)\n",
    "            if (np.array_equal(t,p1_win)):\n",
    "                self.winner=\"p1\"\n",
    "                return 1\n",
    "            elif (np.array_equal(t,p2_win)):\n",
    "                self.winner=\"p2\"\n",
    "                return -1\n",
    "            \n",
    "        t = np.array([self.board[0,0], self.board[1,1], self.board[2,2]])\n",
    "        if (np.array_equal(t, p1_win)):\n",
    "            self.winner=\"p1\"\n",
    "            return 1\n",
    "        elif (np.array_equal(t,p2_win)):\n",
    "            self.winner=\"p2\"\n",
    "            return -1\n",
    "        \n",
    "        t = np.array([self.board[0,2], self.board[1,1], self.board[2,0]])\n",
    "        if (np.array_equal(t, p1_win)):\n",
    "            self.winner=\"p1\"\n",
    "            return 1\n",
    "        elif (np.array_equal(t,p2_win)):\n",
    "            self.winner=\"p2\"\n",
    "            return -1\n",
    "        \n",
    "        if self.board.all():\n",
    "            return 100 #means Draw\n",
    "\n",
    "        return 0 #means game is not over\n",
    "\n",
    "    def reset(self,) -> int:\n",
    "        self.turn = 1\n",
    "        self.board = self._setBoard()\n",
    "        return self.turn\n",
    "\n",
    "    @staticmethod\n",
    "    def _setBoard():\n",
    "        return np.zeros([3,3])\n",
    "    \n",
    "    def render(self, mode=\"human\"):\n",
    "        return super().render(mode)\n",
    "    \n",
    "    def printBoard(self,):\n",
    "        plt.title(f\"{self.winner}\")\n",
    "        plt.imshow(self.board)\n",
    "        plt.show()\n",
    "\n",
    "\n",
    "    "
   ]
  },
  {
   "cell_type": "code",
   "execution_count": 465,
   "metadata": {},
   "outputs": [
    {
     "name": "stdout",
     "output_type": "stream",
     "text": [
      "[[0. 0. 0.]\n",
      " [0. 0. 0.]\n",
      " [0. 0. 0.]]\n"
     ]
    }
   ],
   "source": [
    "env = TicTacToe()\n",
    "\n",
    "print(env.board)"
   ]
  },
  {
   "cell_type": "code",
   "execution_count": 466,
   "metadata": {},
   "outputs": [
    {
     "name": "stdout",
     "output_type": "stream",
     "text": [
      "[0 0] already filled by p1\n",
      "[1 0] already filled by p1\n",
      "[0 0] already filled by p1\n",
      "[2 1] already filled by p2\n",
      "[2 1] already filled by p2\n",
      "{'winner': -1}\n"
     ]
    },
    {
     "data": {
      "image/png": "[encoded data removed]",
      "text/plain": [
       "<Figure size 640x480 with 1 Axes>"
      ]
     },
     "metadata": {},
     "output_type": "display_data"
    }
   ],
   "source": [
    "def test(env):\n",
    "    turn = env.reset()\n",
    "    \n",
    "    done = False\n",
    "\n",
    "    while not done:\n",
    "        action = env.action_space.sample()\n",
    "        next_turn, reward, done, extra_info = env.step(turn, action)\n",
    "\n",
    "        turn = next_turn\n",
    "    \n",
    "    print(extra_info)\n",
    "\n",
    "test(env)\n",
    "env.printBoard()\n",
    "    "
   ]
  }
 ],
 "metadata": {
  "kernelspec": {
   "display_name": "gym",
   "language": "python",
   "name": "python3"
  },
  "language_info": {
   "codemirror_mode": {
    "name": "ipython",
    "version": 3
   },
   "file_extension": ".py",
   "mimetype": "text/x-python",
   "name": "python",
   "nbconvert_exporter": "python",
   "pygments_lexer": "ipython3",
   "version": "3.12.1"
  }
 },
 "nbformat": 4,
 "nbformat_minor": 2
}
