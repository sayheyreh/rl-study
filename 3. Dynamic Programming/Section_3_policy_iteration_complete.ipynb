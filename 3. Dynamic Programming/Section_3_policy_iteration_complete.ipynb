{
  "cells": [
    {
      "cell_type": "markdown",
      "metadata": {
        "id": "b9jmpP4J6VbY",
        "pycharm": {
          "name": "#%%\n"
        }
      },
      "source": [
        "<div style=\"text-align:center\">\n",
        "    <h1>\n",
        "        Policy Iteration\n",
        "    </h1>\n",
        "</div>\n",
        "<br>\n",
        "\n",
        "<div style=\"text-align:center\">\n",
        "    <p>\n",
        "        In this notebook we are going to look at a dynamic programming algorithm called policy iteration. In it, we will iteratively interleave two processes: policy evaluation and policy improvement, until the optimal policy and state values are found.\n",
        "    </p>\n",
        "</div>\n",
        "\n",
        "<br>"
      ]
    },
    {
      "cell_type": "code",
      "execution_count": 71,
      "metadata": {
        "cellView": "form",
        "id": "dnULhrB06fg1"
      },
      "outputs": [],
      "source": [
        "# @title Setup code (not important) - Run this cell by pressing \"Shift + Enter\"\n",
        "\n",
        "\n",
        "from typing import Tuple, Dict, Optional, Iterable, Callable\n",
        "\n",
        "import numpy as np\n",
        "import seaborn as sns\n",
        "import matplotlib\n",
        "from matplotlib import animation\n",
        "\n",
        "from IPython.display import HTML\n",
        "\n",
        "import gym\n",
        "from gym import spaces\n",
        "from gym.error import DependencyNotInstalled\n",
        "\n",
        "import pygame\n",
        "from pygame import gfxdraw\n",
        "\n",
        "\n",
        "class Maze(gym.Env):\n",
        "\n",
        "    def __init__(self, exploring_starts: bool = False,\n",
        "                 shaped_rewards: bool = False, size: int = 5) -> None:\n",
        "        super().__init__()\n",
        "        self.exploring_starts = exploring_starts\n",
        "        self.shaped_rewards = shaped_rewards\n",
        "        self.state = (size - 1, size - 1)\n",
        "        self.goal = (size - 1, size - 1)\n",
        "        self.maze = self._create_maze(size=size)\n",
        "        self.distances = self._compute_distances(self.goal, self.maze)\n",
        "        self.action_space = spaces.Discrete(n=4)\n",
        "        self.action_space.action_meanings = {0: 'UP', 1: 'RIGHT', 2: 'DOWN', 3: \"LEFT\"}\n",
        "        self.observation_space = spaces.MultiDiscrete([size, size])\n",
        "\n",
        "        self.screen = None\n",
        "        self.agent_transform = None\n",
        "\n",
        "    def step(self, action: int) -> Tuple[Tuple[int, int], float, bool, Dict]:\n",
        "        reward = self.compute_reward(self.state, action)\n",
        "        self.state = self._get_next_state(self.state, action)\n",
        "        done = self.state == self.goal\n",
        "        info = {}\n",
        "        return self.state, reward, done, info\n",
        "\n",
        "    def reset(self) -> Tuple[int, int]:\n",
        "        if self.exploring_starts:\n",
        "            while self.state == self.goal:\n",
        "                self.state = tuple(self.observation_space.sample())\n",
        "        else:\n",
        "            self.state = (0, 0)\n",
        "        return self.state\n",
        "\n",
        "    def render(self, mode: str = 'human') -> Optional[np.ndarray]:\n",
        "        assert mode in ['human', 'rgb_array']\n",
        "\n",
        "        screen_size = 600\n",
        "        scale = screen_size / 5\n",
        "\n",
        "        if self.screen is None:\n",
        "            pygame.init()\n",
        "            self.screen = pygame.Surface((screen_size, screen_size))\n",
        "\n",
        "        surf = pygame.Surface((screen_size, screen_size))\n",
        "        surf.fill((22, 36, 71))\n",
        "\n",
        "\n",
        "        for row in range(5):\n",
        "            for col in range(5):\n",
        "\n",
        "                state = (row, col)\n",
        "                for next_state in [(row + 1, col), (row - 1, col), (row, col + 1), (row, col - 1)]:\n",
        "                    if next_state not in self.maze[state]:\n",
        "\n",
        "                        # Add the geometry of the edges and walls (i.e. the boundaries between\n",
        "                        # adjacent squares that are not connected).\n",
        "                        row_diff, col_diff = np.subtract(next_state, state)\n",
        "                        left = (col + (col_diff > 0)) * scale - 2 * (col_diff != 0)\n",
        "                        right = ((col + 1) - (col_diff < 0)) * scale + 2 * (col_diff != 0)\n",
        "                        top = (5 - (row + (row_diff > 0))) * scale - 2 * (row_diff != 0)\n",
        "                        bottom = (5 - ((row + 1) - (row_diff < 0))) * scale + 2 * (row_diff != 0)\n",
        "\n",
        "                        gfxdraw.filled_polygon(surf, [(left, bottom), (left, top), (right, top), (right, bottom)], (255, 255, 255))\n",
        "\n",
        "        # Add the geometry of the goal square to the viewer.\n",
        "        left, right, top, bottom = scale * 4 + 10, scale * 5 - 10, scale - 10, 10\n",
        "        gfxdraw.filled_polygon(surf, [(left, bottom), (left, top), (right, top), (right, bottom)], (40, 199, 172))\n",
        "\n",
        "        # Add the geometry of the agent to the viewer.\n",
        "        agent_row = int(screen_size - scale * (self.state[0] + .5))\n",
        "        agent_col = int(scale * (self.state[1] + .5))\n",
        "        gfxdraw.filled_circle(surf, agent_col, agent_row, int(scale * .6 / 2), (228, 63, 90))\n",
        "\n",
        "        surf = pygame.transform.flip(surf, False, True)\n",
        "        self.screen.blit(surf, (0, 0))\n",
        "\n",
        "        return np.transpose(\n",
        "                np.array(pygame.surfarray.pixels3d(self.screen)), axes=(1, 0, 2)\n",
        "            )\n",
        "\n",
        "    def close(self) -> None:\n",
        "        if self.screen is not None:\n",
        "            pygame.display.quit()\n",
        "            pygame.quit()\n",
        "            self.screen = None\n",
        "\n",
        "    def compute_reward(self, state: Tuple[int, int], action: int) -> float:\n",
        "        next_state = self._get_next_state(state, action)\n",
        "        if self.shaped_rewards:\n",
        "            return - (self.distances[next_state] / self.distances.max())\n",
        "        return - float(state != self.goal)\n",
        "\n",
        "    def simulate_step(self, state: Tuple[int, int], action: int):\n",
        "        reward = self.compute_reward(state, action)\n",
        "        next_state = self._get_next_state(state, action)\n",
        "        done = next_state == self.goal\n",
        "        info = {}\n",
        "        return next_state, reward, done, info\n",
        "\n",
        "    def _get_next_state(self, state: Tuple[int, int], action: int) -> Tuple[int, int]:\n",
        "        if action == 0:\n",
        "            next_state = (state[0] - 1, state[1])\n",
        "        elif action == 1:\n",
        "            next_state = (state[0], state[1] + 1)\n",
        "        elif action == 2:\n",
        "            next_state = (state[0] + 1, state[1])\n",
        "        elif action == 3:\n",
        "            next_state = (state[0], state[1] - 1)\n",
        "        else:\n",
        "            raise ValueError(\"Action value not supported:\", action)\n",
        "        if next_state in self.maze[state]:\n",
        "            return next_state\n",
        "        return state\n",
        "\n",
        "    @staticmethod\n",
        "    def _create_maze(size: int) -> Dict[Tuple[int, int], Iterable[Tuple[int, int]]]:\n",
        "        maze = {(row, col): [(row - 1, col), (row + 1, col), (row, col - 1), (row, col + 1)]\n",
        "                for row in range(size) for col in range(size)}\n",
        "\n",
        "        left_edges = [[(row, 0), (row, -1)] for row in range(size)]\n",
        "        right_edges = [[(row, size - 1), (row, size)] for row in range(size)]\n",
        "        upper_edges = [[(0, col), (-1, col)] for col in range(size)]\n",
        "        lower_edges = [[(size - 1, col), (size, col)] for col in range(size)]\n",
        "        walls = [\n",
        "            [(1, 0), (1, 1)], [(2, 0), (2, 1)], [(3, 0), (3, 1)],\n",
        "            [(1, 1), (1, 2)], [(2, 1), (2, 2)], [(3, 1), (3, 2)],\n",
        "            [(3, 1), (4, 1)], [(0, 2), (1, 2)], [(1, 2), (1, 3)],\n",
        "            [(2, 2), (3, 2)], [(2, 3), (3, 3)], [(2, 4), (3, 4)],\n",
        "            [(4, 2), (4, 3)], [(1, 3), (1, 4)], [(2, 3), (2, 4)],\n",
        "        ]\n",
        "\n",
        "        obstacles = upper_edges + lower_edges + left_edges + right_edges + walls\n",
        "\n",
        "        for src, dst in obstacles:\n",
        "            maze[src].remove(dst)\n",
        "\n",
        "            if dst in maze:\n",
        "                maze[dst].remove(src)\n",
        "\n",
        "        return maze\n",
        "\n",
        "    @staticmethod\n",
        "    def _compute_distances(goal: Tuple[int, int],\n",
        "                           maze: Dict[Tuple[int, int], Iterable[Tuple[int, int]]]) -> np.ndarray:\n",
        "        distances = np.full((5, 5), np.inf)\n",
        "        visited = set()\n",
        "        distances[goal] = 0.\n",
        "\n",
        "        while visited != set(maze):\n",
        "            sorted_dst = [(v // 5, v % 5) for v in distances.argsort(axis=None)]\n",
        "            closest = next(x for x in sorted_dst if x not in visited)\n",
        "            visited.add(closest)\n",
        "\n",
        "            for neighbour in maze[closest]:\n",
        "                distances[neighbour] = min(distances[neighbour], distances[closest] + 1)\n",
        "        return distances\n",
        "\n",
        "\n",
        "def plot_policy(probs_or_qvals, frame, action_meanings=None):\n",
        "    if action_meanings is None:\n",
        "        action_meanings = {0: 'U', 1: 'R', 2: 'D', 3: 'L'}\n",
        "    fig, axes = plt.subplots(1, 2, figsize=(8, 4))\n",
        "    max_prob_actions = probs_or_qvals.argmax(axis=-1)\n",
        "    probs_copy = max_prob_actions.copy().astype(object)\n",
        "    for key in action_meanings:\n",
        "        probs_copy[probs_copy == key] = action_meanings[key]\n",
        "    sns.heatmap(max_prob_actions, annot=probs_copy, fmt='', cbar=False, cmap='coolwarm',\n",
        "                annot_kws={'weight': 'bold', 'size': 12}, linewidths=2, ax=axes[0])\n",
        "    axes[1].imshow(frame)\n",
        "    axes[0].axis('off')\n",
        "    axes[1].axis('off')\n",
        "    plt.suptitle(\"Policy\", size=18)\n",
        "    plt.tight_layout()\n",
        "\n",
        "\n",
        "def plot_values(state_values, frame):\n",
        "    f, axes = plt.subplots(1, 2, figsize=(10, 4))\n",
        "    sns.heatmap(state_values, annot=True, fmt=\".2f\", cmap='coolwarm',\n",
        "                annot_kws={'weight': 'bold', 'size': 12}, linewidths=2, ax=axes[0])\n",
        "    axes[1].imshow(frame)\n",
        "    axes[0].axis('off')\n",
        "    axes[1].axis('off')\n",
        "    plt.tight_layout()\n",
        "\n",
        "\n",
        "def display_video(frames):\n",
        "    # Copied from: https://colab.research.google.com/github/deepmind/dm_control/blob/master/tutorial.ipynb\n",
        "    orig_backend = matplotlib.get_backend()\n",
        "    matplotlib.use('Agg')\n",
        "    fig, ax = plt.subplots(1, 1, figsize=(5, 5))\n",
        "    matplotlib.use(orig_backend)\n",
        "    ax.set_axis_off()\n",
        "    ax.set_aspect('equal')\n",
        "    ax.set_position([0, 0, 1, 1])\n",
        "    im = ax.imshow(frames[0])\n",
        "    def update(frame):\n",
        "        im.set_data(frame)\n",
        "        return [im]\n",
        "    anim = animation.FuncAnimation(fig=fig, func=update, frames=frames,\n",
        "                                    interval=50, blit=True, repeat=False)\n",
        "    return HTML(anim.to_html5_video())\n",
        "\n",
        "\n",
        "def test_agent(environment, policy, episodes=10):\n",
        "    frames = []\n",
        "    for episode in range(episodes):\n",
        "        state = env.reset()\n",
        "        done = False\n",
        "        frames.append(env.render(mode=\"rgb_array\"))\n",
        "\n",
        "        while not done:\n",
        "            p = policy(state)\n",
        "            if isinstance(p, np.ndarray):\n",
        "                action = np.random.choice(4, p=p)\n",
        "            else:\n",
        "                action = p\n",
        "            next_state, reward, done, extra_info = env.step(action)\n",
        "            img = env.render(mode=\"rgb_array\")\n",
        "            frames.append(img)\n",
        "            state = next_state\n",
        "\n",
        "    return display_video(frames)\n",
        "\n"
      ]
    },
    {
      "cell_type": "markdown",
      "metadata": {
        "id": "j-pns0SL6Vbc"
      },
      "source": [
        "## Import the necessary software libraries:"
      ]
    },
    {
      "cell_type": "code",
      "execution_count": 72,
      "metadata": {
        "id": "MiP1siGs6Vbc"
      },
      "outputs": [],
      "source": [
        "import numpy as np\n",
        "import matplotlib.pyplot as plt"
      ]
    },
    {
      "cell_type": "markdown",
      "metadata": {
        "id": "NM6THrGl6Vbd"
      },
      "source": [
        "## Initialize the environment"
      ]
    },
    {
      "cell_type": "code",
      "execution_count": 73,
      "metadata": {
        "id": "q2ytq7oR6Vbe"
      },
      "outputs": [],
      "source": [
        "env = Maze()"
      ]
    },
    {
      "cell_type": "code",
      "execution_count": 74,
      "metadata": {
        "id": "glvnH2SX6Vbe"
      },
      "outputs": [
        {
          "data": {
            "text/plain": [
              "<matplotlib.image.AxesImage at 0x16dd4965940>"
            ]
          },
          "execution_count": 74,
          "metadata": {},
          "output_type": "execute_result"
        },
        {
          "data": {
            "image/png": "[encoded data removed]",
            "text/plain": [
              "<Figure size 640x480 with 1 Axes>"
            ]
          },
          "metadata": {},
          "output_type": "display_data"
        }
      ],
      "source": [
        "frame = env.render(mode='rgb_array')\n",
        "plt.axis('off')\n",
        "plt.imshow(frame)"
      ]
    },
    {
      "cell_type": "code",
      "execution_count": 75,
      "metadata": {
        "id": "YrpWHqxu6Vbe"
      },
      "outputs": [
        {
          "name": "stdout",
          "output_type": "stream",
          "text": [
            "Observation space shape: [5 5]\n",
            "Number of actions: 4\n"
          ]
        }
      ],
      "source": [
        "print(f\"Observation space shape: {env.observation_space.nvec}\")\n",
        "print(f\"Number of actions: {env.action_space.n}\")"
      ]
    },
    {
      "cell_type": "markdown",
      "metadata": {
        "id": "Rx947Ii46Vbf"
      },
      "source": [
        "## Define the policy $\\pi(\\cdot|s)$"
      ]
    },
    {
      "cell_type": "markdown",
      "metadata": {
        "id": "mj-DEzgD6Vbf"
      },
      "source": [
        "#### Create the policy $\\pi(\\cdot|s)$"
      ]
    },
    {
      "cell_type": "code",
      "execution_count": 76,
      "metadata": {
        "id": "kivjfd-t6Vbf"
      },
      "outputs": [],
      "source": [
        "policy_probs = np.full((5, 5, 4), 0.25)"
      ]
    },
    {
      "cell_type": "code",
      "execution_count": 77,
      "metadata": {
        "id": "sunXzggw6Vbf"
      },
      "outputs": [],
      "source": [
        "def policy(state):\n",
        "    return policy_probs[state]"
      ]
    },
    {
      "cell_type": "markdown",
      "metadata": {
        "id": "PGrxXujC6Vbg"
      },
      "source": [
        "#### Test the policy with state (0, 0)"
      ]
    },
    {
      "cell_type": "code",
      "execution_count": 78,
      "metadata": {
        "id": "VlXckfZ96Vbg"
      },
      "outputs": [
        {
          "name": "stdout",
          "output_type": "stream",
          "text": [
            "Probability of taking action 0: 0.25\n",
            "Probability of taking action 1: 0.25\n",
            "Probability of taking action 2: 0.25\n",
            "Probability of taking action 3: 0.25\n"
          ]
        }
      ],
      "source": [
        "action_probabilities = policy((0,0))\n",
        "for action, prob in zip(range(4), action_probabilities):\n",
        "    print(f\"Probability of taking action {action}: {prob}\")"
      ]
    },
    {
      "cell_type": "markdown",
      "metadata": {
        "id": "THcQNGHa6Vbg"
      },
      "source": [
        "#### See how the random policy does in the maze"
      ]
    },
    {
      "cell_type": "markdown",
      "metadata": {
        "id": "gsSYs5Ry6Vbg"
      },
      "source": [
        "test_agent(env, policy, episodes=1)"
      ]
    },
    {
      "cell_type": "markdown",
      "metadata": {
        "id": "tF2UjZft6Vbg"
      },
      "source": [
        "#### Plot the policy"
      ]
    },
    {
      "cell_type": "code",
      "execution_count": 79,
      "metadata": {
        "id": "HJdUvc1T6Vbg"
      },
      "outputs": [
        {
          "data": {
            "image/png": "[encoded data removed]",
            "text/plain": [
              "<Figure size 800x400 with 2 Axes>"
            ]
          },
          "metadata": {},
          "output_type": "display_data"
        }
      ],
      "source": [
        "plot_policy(policy_probs, frame)"
      ]
    },
    {
      "cell_type": "markdown",
      "metadata": {
        "id": "btCVXrhJ6Vbg"
      },
      "source": [
        "## Define value table $V(s)$"
      ]
    },
    {
      "cell_type": "markdown",
      "metadata": {
        "id": "byOFEsaA6Vbg"
      },
      "source": [
        "#### Create the $V(s)$ table"
      ]
    },
    {
      "cell_type": "code",
      "execution_count": 80,
      "metadata": {
        "id": "j2lX_33D6Vbg"
      },
      "outputs": [],
      "source": [
        "state_values = np.zeros(shape=(5,5))"
      ]
    },
    {
      "cell_type": "markdown",
      "metadata": {
        "id": "D9_EfMnY6Vbh"
      },
      "source": [
        "#### Plot $V(s)$"
      ]
    },
    {
      "cell_type": "code",
      "execution_count": 81,
      "metadata": {
        "id": "TI5YZTSF6Vbh"
      },
      "outputs": [
        {
          "data": {
            "image/png": "[encoded data removed]",
            "text/plain": [
              "<Figure size 1000x400 with 3 Axes>"
            ]
          },
          "metadata": {},
          "output_type": "display_data"
        }
      ],
      "source": [
        "plot_values(state_values, frame)"
      ]
    },
    {
      "cell_type": "markdown",
      "metadata": {
        "id": "qfiam4Ef6Vbh"
      },
      "source": [
        "## Implement the Policy Iteration algorithm"
      ]
    },
    {
      "cell_type": "code",
      "execution_count": 82,
      "metadata": {
        "id": "N_5XQChT6Vbh"
      },
      "outputs": [],
      "source": [
        "def policy_evaluation(policy_probs, state_values, theta=1e-6, gamma=0.99):\n",
        "    delta = float(\"inf\")\n",
        "\n",
        "    while delta > theta:\n",
        "        delta = 0\n",
        "\n",
        "        for row in range(5):\n",
        "            for col in range(5):\n",
        "                old_value = state_values[(row, col)]\n",
        "                new_value = 0\n",
        "                action_probabilities = policy_probs[(row, col)]\n",
        "\n",
        "\n",
        "                for action, prob in enumerate(action_probabilities):\n",
        "                    next_state, reward, _, _ = env.simulate_step((row, col), action)\n",
        "                    new_value += prob * (reward + gamma * state_values[next_state])\n",
        "                \n",
        "                \n",
        "                state_values[(row, col)] = new_value\n",
        "\n",
        "                delta = max(delta, abs(old_value - new_value))"
      ]
    },
    {
      "cell_type": "code",
      "execution_count": 83,
      "metadata": {},
      "outputs": [
        {
          "name": "stdout",
          "output_type": "stream",
          "text": [
            "[[-98.11358953 -98.5958623  -98.87791939 -99.1146428  -99.20511279]\n",
            " [-97.55510203 -98.73934806 -99.38040877 -99.22512714 -99.26346904]\n",
            " [-96.89783363 -98.8319013  -99.35537876 -99.3043064  -99.29206939]\n",
            " [-96.11522801 -98.87726156 -90.99437596 -88.95895126 -87.71818873]\n",
            " [-95.17566469 -94.04118148 -92.66594064 -87.71818873 -85.98119404]]\n"
          ]
        }
      ],
      "source": [
        "policy_evaluation(policy_probs, state_values)\n",
        "print(state_values)"
      ]
    },
    {
      "cell_type": "code",
      "execution_count": 84,
      "metadata": {
        "id": "JRj7ZxuO6Vbh"
      },
      "outputs": [],
      "source": [
        "def policy_improvement(policy_prob, state_values, gamma=0.99):\n",
        "\n",
        "    policy_stable = True\n",
        "    for row in range(5):\n",
        "        for col in range(5):\n",
        "            old_action = policy_prob[(row, col)].argmax()\n",
        "\n",
        "            new_action = None\n",
        "            max_qsa = float(\"-inf\")\n",
        "\n",
        "            for action in range(4):\n",
        "                next_state, reward, _, _ = env.simulate_step((row, col), action)\n",
        "                qsa = reward + gamma * state_values[next_state]\n",
        "                if qsa > max_qsa:\n",
        "                    max_qsa = qsa\n",
        "                    new_action = action\n",
        "\n",
        "            action_prob = np.zeros(4)\n",
        "            action_prob[new_action] = 1.\n",
        "            policy_prob[(row, col)] = action_prob\n",
        "\n",
        "            if new_action != old_action:\n",
        "                policy_stable = False\n",
        "\n",
        "    return policy_stable"
      ]
    },
    {
      "cell_type": "code",
      "execution_count": 85,
      "metadata": {},
      "outputs": [
        {
          "data": {
            "text/plain": [
              "False"
            ]
          },
          "execution_count": 85,
          "metadata": {},
          "output_type": "execute_result"
        }
      ],
      "source": [
        "policy_improvement(policy_probs, state_values)"
      ]
    },
    {
      "cell_type": "code",
      "execution_count": 86,
      "metadata": {
        "id": "-0F0aB_f6Vbh"
      },
      "outputs": [],
      "source": [
        "def policy_iteration(policy_probs, state_values, theta=1e-6, gamma=0.99):\n",
        "    policy_stable = False\n",
        "    count = 0\n",
        "    while not policy_stable:\n",
        "        count+=1\n",
        "        policy_evaluation(policy_probs, state_values, theta, gamma)\n",
        "\n",
        "        policy_stable = policy_improvement(policy_probs, state_values, gamma)\n",
        "\n",
        "    print(count)"
      ]
    },
    {
      "cell_type": "code",
      "execution_count": 87,
      "metadata": {
        "id": "0eZr-1ko6Vbh"
      },
      "outputs": [
        {
          "name": "stdout",
          "output_type": "stream",
          "text": [
            "1\n"
          ]
        }
      ],
      "source": [
        "policy_iteration(policy_probs, state_values)"
      ]
    },
    {
      "cell_type": "markdown",
      "metadata": {
        "id": "zHHT9iLY6Vbh"
      },
      "source": [
        "## Show results"
      ]
    },
    {
      "cell_type": "markdown",
      "metadata": {
        "id": "4bVf7AMd7ajW"
      },
      "source": [
        "Show resulting value table V(s)"
      ]
    },
    {
      "cell_type": "code",
      "execution_count": 88,
      "metadata": {
        "id": "Y1GDXzvt7atl"
      },
      "outputs": [
        {
          "data": {
            "image/png": "[encoded data removed]",
            "text/plain": [
              "<Figure size 1000x400 with 3 Axes>"
            ]
          },
          "metadata": {},
          "output_type": "display_data"
        }
      ],
      "source": [
        "plot_values(state_values, frame)"
      ]
    },
    {
      "cell_type": "markdown",
      "metadata": {
        "id": "1OdMtp1n7hBU"
      },
      "source": [
        "Show resulting policy $\\pi(\\cdot|s)$"
      ]
    },
    {
      "cell_type": "code",
      "execution_count": 89,
      "metadata": {
        "id": "y4u6alml7hHQ"
      },
      "outputs": [
        {
          "data": {
            "image/png": "[encoded data removed]",
            "text/plain": [
              "<Figure size 800x400 with 2 Axes>"
            ]
          },
          "metadata": {},
          "output_type": "display_data"
        }
      ],
      "source": [
        "plot_policy(policy_probs, frame)"
      ]
    },
    {
      "cell_type": "markdown",
      "metadata": {
        "id": "onu9Yu8D6Vbh"
      },
      "source": [
        "#### Test the resulting agent"
      ]
    },
    {
      "cell_type": "code",
      "execution_count": 90,
      "metadata": {},
      "outputs": [
        {
          "data": {
            "image/png": "[encoded data removed]",
            "text/plain": [
              "<Figure size 1000x400 with 3 Axes>"
            ]
          },
          "metadata": {},
          "output_type": "display_data"
        }
      ],
      "source": [
        "plot_values(state_values, frame)"
      ]
    },
    {
      "cell_type": "code",
      "execution_count": 91,
      "metadata": {
        "id": "U_8oUWxl6Vbh"
      },
      "outputs": [
        {
          "name": "stderr",
          "output_type": "stream",
          "text": [
            "C:\\Users\\rehaa\\AppData\\Local\\Temp\\ipykernel_1084\\1238118331.py:211: MatplotlibDeprecationWarning: Auto-close()ing of figures upon backend switching is deprecated since 3.8 and will be removed two minor releases later.  To suppress this warning, explicitly call plt.close('all') first.\n",
            "  matplotlib.use(orig_backend)\n"
          ]
        },
        {
          "data": {
            "text/html": [
              "<video width=\"500\" height=\"500\" controls autoplay>\n",
              "  <source type=\"video/mp4\" src=\"data:video/mp4;base64,AAAAIGZ0eXBNNFYgAAACAE00ViBpc29taXNvMmF2YzEAAAAIZnJlZQAAGCxtZGF0AAACrwYF//+r\n",
              "3EXpvebZSLeWLNgg2SPu73gyNjQgLSBjb3JlIDE2NCByMzA5NSBiYWVlNDAwIC0gSC4yNjQvTVBF\n",
              "Ry00IEFWQyBjb2RlYyAtIENvcHlsZWZ0IDIwMDMtMjAyMiAtIGh0dHA6Ly93d3cudmlkZW9sYW4u\n",
              "b3JnL3gyNjQuaHRtbCAtIG9wdGlvbnM6IGNhYmFjPTEgcmVmPTMgZGVibG9jaz0xOjA6MCBhbmFs\n",
              "eXNlPTB4MzoweDExMyBtZT1oZXggc3VibWU9NyBwc3k9MSBwc3lfcmQ9MS4wMDowLjAwIG1peGVk\n",
              "X3JlZj0xIG1lX3JhbmdlPTE2IGNocm9tYV9tZT0xIHRyZWxsaXM9MSA4eDhkY3Q9MSBjcW09MCBk\n",
              "ZWFkem9uZT0yMSwxMSBmYXN0X3Bza2lwPTEgY2hyb21hX3FwX29mZnNldD0tMiB0aHJlYWRzPTE2\n",
              "IGxvb2thaGVhZF90aHJlYWRzPTIgc2xpY2VkX3RocmVhZHM9MCBucj0wIGRlY2ltYXRlPTEgaW50\n",
              "ZXJsYWNlZD0wIGJsdXJheV9jb21wYXQ9MCBjb25zdHJhaW5lZF9pbnRyYT0wIGJmcmFtZXM9MyBi\n",
              "X3B5cmFtaWQ9MiBiX2FkYXB0PTEgYl9iaWFzPTAgZGlyZWN0PTEgd2VpZ2h0Yj0xIG9wZW5fZ29w\n",
              "PTAgd2VpZ2h0cD0yIGtleWludD0yNTAga2V5aW50X21pbj0yMCBzY2VuZWN1dD00MCBpbnRyYV9y\n",
              "ZWZyZXNoPTAgcmNfbG9va2FoZWFkPTQwIHJjPWNyZiBtYnRyZWU9MSBjcmY9MjMuMCBxY29tcD0w\n",
              "LjYwIHFwbWluPTAgcXBtYXg9NjkgcXBzdGVwPTQgaXBfcmF0aW89MS40MCBhcT0xOjEuMDAAgAAA\n",
              "BPpliIQAR9rjniWskwar7DY/MVm/rKZDmZ0oILp1NYbTTfqcWlhCkZ80v2ogAAADAAAK9Pial27l\n",
              "rkw+06Y5JjglqoyOHBTbIOt5fMeFOTL7iY+RRdPiTinta8ViNNLAdnxsg2AaNC0dV8Ro/2rxZ0/d\n",
              "w/DasmGH3B9/gPgtUrSOlL4fQFXG6Tnf2W5opDARzjyXsusnL0mowdjBXIyVUfX+DssPHaLaFE9M\n",
              "cTej+AAKtnLYYa3Z05zKVJoAG6TI++OXhtyITYSO5xXDNqziDvXqGc7V9SApvfYCJgL8xum4MY/0\n",
              "iH/kQOs7sI6Mg02S3SnZB3tEO8+UVEFNyOweCADvA821hFX7IAkt/CSRJXI9HRM7GldIAA2RNszh\n",
              "JyWNLavL+McVrjsPmpglBJL+EU7CQQDINswywKJ9CRwEpCCFriKXvQTMO2QHcr082r45Ma6hL0Ig\n",
              "AAhGZum3cHBHqGrnEYiVoBFzQBa0O/Sca3iHgd6AYZcyfi0X9w0pA78RQ5foCsOly2UOaS3vwxDf\n",
              "+C2H5NCs26Z5+o4fYYC+jr9k/jraonbhpwHPgmlKu6FA1PRfL3JFkE9qkUee1Yk+nyT+/tfyvISG\n",
              "DjhpmXGPe/AARMu0vnpjIoQfYP1pcRdekGinSeKxwc1oRXBD8SqsGH8fFVHj8LlaXOvwEA7X5fRu\n",
              "K1Mw52E3EkPZe2h0IO2lW0RcyLNln8ofgFK+qPo9QbsSaDc8wj5NwoBiZS6G2JPeACxhhGpCVzHW\n",
              "OhMbeyTGeOG9XYm+06jB1Zv1FqpvkDu/InFG4/1FfvuH22GqrchKDpLQwFNEgVSuR1/7HYr6T2eR\n",
              "BZ3MQ0vwa12iK3S97CcBasLYQS3f2QDjdaUS3QtC349LuFWfhGZ33vLhAwHAEcF59Dh0wno1InrI\n",
              "UST6E0Abfy36dw7Ycm0n3PXVyNuQixrskEO4zyKL5KkCDdlTpnHyKytpYxdhh0LxQfzuoy1LUhjx\n",
              "6viaUySv/LKWtqtLAJCIadRsts8M+jzhj0K5Hih/+CHrlvYx3U4JRUdC+6r5FARqn4PviLrCp48L\n",
              "+0vrdY+g+eJGfs+vOa+DouAnurY5AHSk1DY7hbC/S6UdOx9OuHjpdeF4bsY7XQsy7qd8Nvfg0pVr\n",
              "K7w4UehDvFV4JR3bk9rhdnFsgeiZW/UabqGNB+biBRArSaTjlYAuQOhddPCh0YyTvJUfNfcMV7Hw\n",
              "o20ac61aAAADAFI3SvQ7EkP5QTtHecA6wJCBxfai9mUPV302oGoffJEdrYphxeH2DOy+FeoLM5aW\n",
              "LafD0O4/eqKaWbvQDDO+oU3eJguRqkoZw/O5gAriYfeAomSzxlUIHCbcNSOz8cEL/7kK0/1YCQ7k\n",
              "ysE3pz2+wpIJx1M4h9H9CtPx9XS47rAf4rBnI2ovhDWRo8rgp3wqxr4GDW0fP1ZsYxovb/X3uajo\n",
              "SfANgSVxH0AHa4sfejk+6gmyP1+5lkMdSXda2sr0uhFgMZq8BSrwsUR7QU+NwuH/yzfJrQBc+KEo\n",
              "AbmhwLuoX6AIGB1YPB9ydkMGRBymyTTiEigt/QN7kqbxXPQpt4ZdMbogm81NxSsZWbx/uWbV90xU\n",
              "3K53Rck3TbyyE47uuICv3wjqQmk4FnM2i8apY1eAAAGjBL1b23kppTJi9k+msKQ1R1sQteo7YAAA\n",
              "OfKAOwqaHxbvA4Wn5O3E7yvpJwsOuQAAAdtBmiFsRH8AZJtCQBp7p9P9An3E2acIE2J/u5UifX0T\n",
              "M4eyjWVCuMSPOEArgfibmp3gbgIqCWxdwHu0CQXbhTqkSEbffHES+4BIRlZw63JfgdyywUVZX8ec\n",
              "Gqfwingr3Js3mGHPjlGXYVkcQkP36jxSxwBH9wznXOKGa2us7i9f+vcTY92gfzl2G2r0CqvVbS+u\n",
              "iiYeUPWUUQdAgzornIvw7330ooog80jnfRnp3/qvzvyvtsj7Clnbpi4nqWjCTjojRXr29EBVb+Hr\n",
              "viPJYhXXDwBlgSw1QnvcEjzNNWfKMiXZ9FIBJfFK3gsi7WuLy3Nb+mNGjkWLsUxf9NxEbJOqoVmT\n",
              "pBIOj1Ry9BCswJzVfRH1PUw6O6hhnjskvTN8R5AZTpNFQZMkQOWS4sXX6aeACewTJcPmhgX5WT7S\n",
              "XMY82sW2KbP4yEmKGCRNFt12Ll5HyG+Rq6dGXYbYbKSWbpvhuE7TmCCZ5VScG06kU+2/7uAlPQg6\n",
              "eegM3KcRFnVgJV484XKDsZPVEqz+Q2Krb5L+pfwkrPrk1r7d1OtPUxfYCII2iCEIOsvqxYLm121+\n",
              "q96YCj20R4A4lVHJVzzpzvnM/11D/OyTkFM535AcCKwXry5avARJeUnHkiJAAAABsUGaQjwhkymE\n",
              "VwABC7u4pNVnB9SomuP00QPdfgBAZeJ91ACdaWvsZnqwn8Wp++PlcZTrkqN3W4x15j8J3XNb7g7u\n",
              "JnQSHrftRCMqD6dCxf3nfBkAcNIbS8CxHOy0urQbucIbFi6V1wV3uGaOdHvPgOeJPw/+54kpOUmT\n",
              "jvSpj+c958JilBYz6ERkHgw3C7OMt5jUvu4quI0gpTAP8CgpJm3eA1pwvbbJ8NbTQuD4pxqOhml+\n",
              "eV2gTwEwiuF45nnRLl6NBBAMjmh1gqINOHFnf0las+jBcwmKsOKurWDvmC0guNAfdRCQVHeC/JT1\n",
              "A1Uk6/M0lChR0EKDT02XgXWHAmp+B79psxdjuV38Nnm4yVpM59DtWohZJGTRpmasBrXF1qT4vH0X\n",
              "4lmVRyNDsvhWMEiH04u5gNq0y2LhzwSzvveSHQWQzdNDc5wSIQYqublT6mIFcMBuBVER9Xla5Tnx\n",
              "dvKNrNRMfwhXU2fdyT3+l299d+NnUBHOaLKD+G7vzykyhPr7P5quwugul93+m3F2nc9qLjit5awa\n",
              "0S0bUy5gLaEro63SKxuatOOgSo+uBVDgFtEAAAGeQZpjSeEPJlMCK/8ABWvpRL/jLumYH6tzNEWJ\n",
              "OONxrFgv9ID1SILGRufuKAF08pT+PHGsD+lcfYq1Vp6dL7lC1V3IG94Aj5DNevVFjU4Fz97o+ChL\n",
              "wVosNfEHhtuXHxs+/Rjscko0Dm5gIJXUQLHIRxADVoaZ7eflIysw5m+QTj1AkAagDMRbMQPVoTav\n",
              "kzeSlMC0UshVuhyS7zgb8DxPrja45OEyH929ZqG1Hi1qgh2272HIQapNVeZfoFUeO5iZEFjaiisY\n",
              "7oZ9GgdW0kyCzJJC5ZYmcmqbewtUnkz3KjHMofhTIXovNEMCmO4p8VlPQ5z7TKIOjM+aVELXyzoA\n",
              "0FzwkRI6h/Obz1vBgJtJJUyfwSeeEoZsCWXWg3rmA+yOO8PxRptxUBq5CxFz+HgQeVbxqdz/QPbW\n",
              "88D3dcGhNyA1AhoNP6LUY/HS2yBQnexKKSV28y/IaBauzQ4Ic5ixfs0ibPs0GuleRYGMkpdtNDKk\n",
              "Hqf749oZZJDjlMLoJmsM37fkNN+/AaDYfj7d7BYVwFkej7kX7qHAHAJDQBlQAAABj0GahEnhDyZT\n",
              "Aiv/AADz/GYZEUsHZPdvK5+WOa0D0yaAJxLGa3c7TBqaAcTAcqaksHxDrO//ZAcAOratGmf0U8RK\n",
              "LgtVpQqV/GnNbtq11GZN/hbal9/zydXSomhl1fsTsZbFbcAdUh/iXHqYGLAjbj9Q2W+M+M5B0UzU\n",
              "fvbCn2qHJcr06uQVGy/7L9CNsOrKq9wXSAHp59TKYrUn/KQ7tAageDsb17ADwD7PBk/RLuEgfx0R\n",
              "6x3TgdAUydm1vCi7XvmhUhdQBlz/SQEE+UQQOWePxrFKww/bMcVhom08/6Rs8ya7Xvzqb7u3GjOD\n",
              "hisk5WZtftQoS5g6JF1Ptnw2Wj+2rBT8LPRH5eOhRQpbe6Yl5zQGcrTbNJaDvG8wVxJ1I/sJ3aD9\n",
              "ZCJAlylx4oT8mvhoRzvlUCcMv8Sb/rATgRQlt3kx7d8NeS0+Yru7FhbI3aF2Q7f98QXS+jSCvycq\n",
              "/uSBf05sDfOZb8GWYsr47LqGOy5iPNHtTraEou5FDM4E0yx9ySV/kA4OWOjDvtJxwQAAAY1BmqVJ\n",
              "4Q8mUwIz/wABXfUYX9Df5dvmq3l9RoJm1/aT0ZNAuGywa/EuC/90n/714UYPIrxOaWkZl+BEGNSo\n",
              "tB6ljRvfnB5ZUS1GMexwvP6c6LENG/xqa3+CJEot/Xp3wbpUip8kvVW+zSTpA0oRfTCKrQM7ul1J\n",
              "776gSRey6RhugnBNBuMdco7+Edxi9bEkzgAYZ9/3SYWdoz3cd8YLk++71BOLCLMW386WSVwdv+iM\n",
              "l4QK6nw3yvaLKbyNmZewp82K9PJAFt2bjpFJOAZ8+cXDiweOhT1dDifWt0/eez9gCQjltlrbhTQK\n",
              "HTbzRQpwD6cluFTCTjh58PhCQC0ZVVWsXlhT2Whc6yPmDe2Jh/MKV2UjAIACPh/8CUAQytGXjLG5\n",
              "3j7PEUKQ6o92D0dcLtKZunqIaUMsB4mIIRe3F9caVo/FXu4QaQtiCgOLKuDbLIL4oNKBqVC2LO5u\n",
              "famSaMQYqQ5jcD5cV/SapbZHiGrZhqKlk0sPpJnFACvhSium8xRaOXtZUwjeRZIFU+dFAAABoEGa\n",
              "xknhDyZTAjP/AAFd9Rhf0N/l2+areX1GglbX9pNyAFI0MFgrNfY1OvK4BpALTdNk8Ajf3i5+HS84\n",
              "036LGBjGLUOeV+mvNMVtDlgHdJ2YlwgqTyVLqsoh7LHwEoM7LZsqpHRfHQqz8VM/+YQT0kbx6gsl\n",
              "2Z2iqzaWP6LiA1BAtPKe6h23hC60Fj9blDuYNP+7VSSWwwAF7z1LtKbWHBpx4Jw9uEyxl8xb3Qsh\n",
              "MdfyL+ur9jN/yknAFDn1yoFvQoQHBKkBzSbbcVmRmZJhBpe6IDiQO5EhmH8Z/i4YmaBnj2bD374b\n",
              "li4EmBI/dSssALFucNBW2AAV9rAP/owDeQFSJ9NiO9i/jR9snGJF94Bb8y4NOhe4hMTr715Q8dqv\n",
              "WQla8jjBhyTpb14bODDy+We/7SZOEkUqbIU1Tmjc7DutzClMOYxq+qoxR1PIxJHn186XJ8ntZ1zL\n",
              "uJ7FTY2RW96XqLbC+7dP+Ab6YR6QE1MMkWtwYMxpalDosdSGUKS6fUdjwROXIP68EiEgYs13k7qc\n",
              "mCkM2TxAjqrgFgC/IRjxAAABtUGa50nhDyZTAjv/AAJd7KKsTyKsT0f4HhbFUh35BI6MB/6Z+9aK\n",
              "p7YNVDECjNJ8M70NfFKKeys98qjLb/yb8FtNB6xlq6fH2CEXOVvh2VOJLa9O1ipoa5iC5tM2Hm6h\n",
              "f4jeW9sHWxCZKtoKMexkQd/OyP3RB0+1tgGf6PvxVAZA2rh/HcyoL7aHQvFdh/0sZCI9MrZsTuqw\n",
              "FaGaLAojTfZCxAlucDBGUiuQBD+Svp/9bbnxI1502P4/ND3iB0tkTcJU4HRJDv99zQAtIW8ymtFa\n",
              "O2+ELA2IAe3kIc4bv+vdpBYqEkfFDfjiXf+9SS2Nbb0J5NKrSo69lLK7FmhFMQQ0okLI/bCnu7kC\n",
              "v2EP8/cwfrss1ZniCFlxs6GJo7KEZq5p/M7ruxWEuJLeCWVTMTZSpIP1HKI/iOjQJl4AvKmB1RUw\n",
              "sfGgrzgZ9qYyDPSIXj9lJJ8ZmbZ16g6pJdcHWYJ167xxpm7VF2aAMhAY6vGHqnNeF/Eq1GCgbmed\n",
              "rodhGuJv3v9JGyHv2RnEv0oB39t0uADzHhUCct7vVeSOAU6/t+Q+Gkkq6mywgiyzrr4AAhQN8Cdh\n",
              "AAABp0GbCEnhDyZTAhD/AAM74nN51/T2IDR4Ya2xqf8PoYCJLN/xHB2w/sP/Pb0MalL17AaJUzf+\n",
              "1DbDIo0c0FUjPQNS23tPv0bMiknMhBLdMwFgRxWYWCKLhatcDejPRdhDpemoJ4ypXFZ7vFwG6Pha\n",
              "Q9i/LVt1Ylt7x1F0XFMCYbo6crWcahyR0TsigTBxjqspF0qqHgPzUScoFwrS927OqxmLSKflkg4x\n",
              "PmU0tStRuPQIY0QS8ZjH8vRKaa86wiEAAMYARYsRsceBA/fRKAv0dQjJrCJWvwPM1ChLQYvccyDQ\n",
              "Sv0uystHy2VcGO4rJY8pibgb1vnXHHO8o0WkA/ks/ID6kGeU04Bq2eooWmFsseF0H/dnVeC2Fh2B\n",
              "nPj7HjZYjxStYYVUjygVj7R94nYMvD4N90hvP5DLJwgpW1YfOGRSOQI//7hAtwmuB/dwBTZN9u9i\n",
              "nk4yNm+5lRSK2QVmwcHyPM72X6zg1OIbYl3QDq+2mv9uyya6RC3t0DAorbU1B2Bjhaz5xRjY4HsJ\n",
              "WA/JYS3MMyWpmNLtNRvvu7WITTrLrNy9XMAD5gAAAaFBmylJ4Q8mUwIS/wAFs4xtqq6Dj3zIUXrz\n",
              "ZnswYflAqTdd2MNQ4v/1TAkKofdeHs75XMtngTNwTsNKFWJxxPCs0VpCsPmhXP1lz+xPlw6MTXdj\n",
              "1uTnvpXHZthJ7Bv7RwMyFHZXRXmGuYD4EeKIxhbmii79ETd9dQGsEikhl0BxSGJQ48csWblFb8oS\n",
              "8vBn/knrhUlGwBBmaemv5lfLwKG1Xnhy9a1U8P5z3hR88P0AsQU9aVg99Troh1DAxY3Qa5FC1Rn5\n",
              "btwwlnt+uY86eF0Mi6QAYP8UxxQByfJzPue2Qw6n9oLkV3fi8R3D3w8BvJ/5uuwxcAAm5rV/Xf7n\n",
              "siq20YM5dFVW5qZMBnZmWZjZCuV+8vAa+wilyo8LaQImDnUXf8eL0HQSg11b/1FuBwBK0hvP7PZa\n",
              "43Jt6fPpVMBntHbyamDOoiY47BZvG2FrHZQlgcLjC+udZTy0smKFkmXL+LGBplBGofTJWGZTWCfc\n",
              "QHbxHR7A47YXxz1sxuiuUy3SQA+oz/w/XmC/42Zb5on4nYSv1CwBecB0RFnU2Z2YMIAAAAFoQZtK\n",
              "SeEPJlMCFv8ACLc4EZulMdqy48t4za4pQfaZR6mz+J8hrhEkaYBn4OZ/4QYcomcrcbxtT6FQOaMt\n",
              "5l3JWI30ESl/+XhBMVb8aclkvnbwcnjasaSEJBxJZypIUcTzICOUHkYWwlZ5MbzufszJHcbSneru\n",
              "6dLOYdlNiDO+nhtkXLDU/weS2M6cRgEHrdfXovVHCQlovFxOEW5lZQUkH06GDdIctA9eOkOXYrFe\n",
              "o3CduB+Tu6QmavONHEc7vqwvilR7lpPR51jb+HHjpD1kefpkB5VLi/aSlKF5Pw+HwPIyPe4pcLBR\n",
              "V3C/yuWq9u/YaEEEP3NG4R50rBM5R5gVvyUIj+jSjm8LWUvI9Gd1sbY9nHFegvPsorM4ewMUvK4R\n",
              "5i+Q5U+pZRUHVjnnjauYyvhyxw5y8IJm0FWcS+fQqM9aVLl2t6kTKTqVK7r7RikHIdvP83LN1ANd\n",
              "ausJ5oJYMmIiAtwPTngxAAADaG1vb3YAAABsbXZoZAAAAAAAAAAAAAAAAAAAA+gAAAImAAEAAAEA\n",
              "AAAAAAAAAAAAAAABAAAAAAAAAAAAAAAAAAAAAQAAAAAAAAAAAAAAAAAAQAAAAAAAAAAAAAAAAAAA\n",
              "AAAAAAAAAAAAAAAAAAAAAAIAAAKSdHJhawAAAFx0a2hkAAAAAwAAAAAAAAAAAAAAAQAAAAAAAAIm\n",
              "AAAAAAAAAAAAAAAAAAAAAAABAAAAAAAAAAAAAAAAAAAAAQAAAAAAAAAAAAAAAAAAQAAAAAH0AAAB\n",
              "9AAAAAAAJGVkdHMAAAAcZWxzdAAAAAAAAAABAAACJgAABAAAAQAAAAACCm1kaWEAAAAgbWRoZAAA\n",
              "AAAAAAAAAAAAAAAAKAAAABYAVcQAAAAAAC1oZGxyAAAAAAAAAAB2aWRlAAAAAAAAAAAAAAAAVmlk\n",
              "ZW9IYW5kbGVyAAAAAbVtaW5mAAAAFHZtaGQAAAABAAAAAAAAAAAAAAAkZGluZgAAABxkcmVmAAAA\n",
              "AAAAAAEAAAAMdXJsIAAAAAEAAAF1c3RibAAAALlzdHNkAAAAAAAAAAEAAACpYXZjMQAAAAAAAAAB\n",
              "AAAAAAAAAAAAAAAAAAAAAAH0AfQASAAAAEgAAAAAAAAAAQAAAAAAAAAAAAAAAAAAAAAAAAAAAAAA\n",
              "AAAAAAAAAAAAABj//wAAADdhdmNDAWQAHv/hABpnZAAerNlAgBB554QAAAMABAAAAwCgPFi2WAEA\n",
              "Bmjr48siwP34+AAAAAAcdXVpZGtoQPJfJE/FujmlG88DI/MAAAAAAAAAGHN0dHMAAAAAAAAAAQAA\n",
              "AAsAAAIAAAAAFHN0c3MAAAAAAAAAAQAAAAEAAAAYY3R0cwAAAAAAAAABAAAACwAABAAAAAAcc3Rz\n",
              "YwAAAAAAAAABAAAAAQAAAAsAAAABAAAAQHN0c3oAAAAAAAAAAAAAAAsAAAexAAAB3wAAAbUAAAGi\n",
              "AAABkwAAAZEAAAGkAAABuQAAAasAAAGlAAABbAAAABRzdGNvAAAAAAAAAAEAAAAwAAAAYnVkdGEA\n",
              "AABabWV0YQAAAAAAAAAhaGRscgAAAAAAAAAAbWRpcmFwcGwAAAAAAAAAAAAAAAAtaWxzdAAAACWp\n",
              "dG9vAAAAHWRhdGEAAAABAAAAAExhdmY2MC4xNi4xMDA=\n",
              "\">\n",
              "  Your browser does not support the video tag.\n",
              "</video>"
            ],
            "text/plain": [
              "<IPython.core.display.HTML object>"
            ]
          },
          "execution_count": 91,
          "metadata": {},
          "output_type": "execute_result"
        }
      ],
      "source": [
        "test_agent(env, policy, episodes=1)"
      ]
    },
    {
      "cell_type": "markdown",
      "metadata": {
        "id": "bixFf0kp6Vbh"
      },
      "source": [
        "## Resources"
      ]
    },
    {
      "cell_type": "markdown",
      "metadata": {
        "id": "NIU61hO36Vbh"
      },
      "source": [
        "[[1] Reinforcement Learning: An Introduction. Ch. 4: Dynamic Programming](https://web.stanford.edu/class/psych209/Readings/SuttonBartoIPRLBook2ndEd.pdf)"
      ]
    }
  ],
  "metadata": {
    "colab": {
      "provenance": []
    },
    "kernelspec": {
      "display_name": "Python 3",
      "language": "python",
      "name": "python3"
    },
    "language_info": {
      "codemirror_mode": {
        "name": "ipython",
        "version": 3
      },
      "file_extension": ".py",
      "mimetype": "text/x-python",
      "name": "python",
      "nbconvert_exporter": "python",
      "pygments_lexer": "ipython3",
      "version": "3.12.1"
    }
  },
  "nbformat": 4,
  "nbformat_minor": 0
}
