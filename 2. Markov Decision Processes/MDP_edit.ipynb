{
 "cells": [
  {
   "cell_type": "code",
   "execution_count": 1,
   "metadata": {},
   "outputs": [],
   "source": [
    "import numpy as np\n",
    "import matplotlib\n",
    "from matplotlib import animation\n",
    "from typing import Tuple, Dict, Optional, Iterable"
   ]
  },
  {
   "cell_type": "code",
   "execution_count": 3,
   "metadata": {},
   "outputs": [],
   "source": [
    "import gym\n",
    "from gym import spaces"
   ]
  },
  {
   "cell_type": "code",
   "execution_count": 2,
   "metadata": {},
   "outputs": [],
   "source": [
    "from pprint import pprint"
   ]
  },
  {
   "cell_type": "code",
   "execution_count": 23,
   "metadata": {},
   "outputs": [],
   "source": [
    "class Maze(gym.Env):\n",
    "    def __init__(self, exploring_starts: bool=False, size:int = 5) -> None:\n",
    "        super().__init__()\n",
    "        self.exploring_starts = exploring_starts\n",
    "        self.size= size\n",
    "        self.state = (size - 1, size - 1)\n",
    "        self.goal = (size - 1, size - 1)\n",
    "        self.maze = self._createMaze(size = self.size)\n",
    "        self.action_space = spaces.Discrete(4)\n",
    "        self.action_space.action_meanings = {0: 'UP', 1: 'RIGHT', 2: 'DOWN', 3: \"LEFT\"}\n",
    "\n",
    "        self.distances = self._compute_distances(self.goal, self.maze, self.size)\n",
    "        \n",
    "        self.observation_space = spaces.MultiDiscrete([size,size])\n",
    "\n",
    "    @staticmethod\n",
    "    def _compute_distances(goal: Tuple[int,int], maze: Dict[Tuple[int, int], Iterable[Tuple[int, int]]], size: int)->np.ndarray:\n",
    "        distances = np.full([size, size], np.inf)\n",
    "        visited  = set()\n",
    "        distances[goal] = 0\n",
    "\n",
    "        while visited != set(maze):\n",
    "            sorted_dst = [(v // 5, v % 5) for v in distances.argsort(axis=None)]\n",
    "            closest = next(x for x in sorted_dst if x not in visited)\n",
    "            visited.add(closest)\n",
    "        \n",
    "            for neighbour in maze[closest]:\n",
    "                distances[neighbour] = min(distances[neighbour], distances[closest] + 1)\n",
    "        return distances\n",
    "\n",
    "    def reset(self) -> Tuple[int,int]:\n",
    "        if self.exploring_starts:\n",
    "            while self.state == self.goal:\n",
    "                self.state = tuple(self.observation_space.sample())\n",
    "        else:\n",
    "            self.state=(0,0)\n",
    "        return self.state\n",
    "\n",
    "    @staticmethod\n",
    "    def _createMaze(size: int):\n",
    "        maze = {(row,col): [(row-1, col), (row+1,col),(row,col-1),(row,col+1)]\n",
    "                for row in range(size) for col in range(size)}\n",
    "        left_edges = [[(row, 0),(row,-1)] for row in range(size)]\n",
    "        right_edges = [[(row, size-1), (row, size)] for row in range(size)]\n",
    "        upper_edges = [[(0,col),(-1,col)] for col in range(size)]\n",
    "        lower_edges = [[(size-1, col), (size,col)] for col in range(size)]\n",
    "\n",
    "        walls = [\n",
    "            [(1,0),(1,1)], [(2,0),(2,1)], [(4,0),(3,0)],\n",
    "            [(0,1),(1,1)], [(3,1),(4,1)], [(2,1),(2,2)],\n",
    "            [(3,1),(3,2)], [(0,3),(0,4)], [(1,3),(1,4)],\n",
    "            [(0,2),(1,2)], [(1,2),(1,3)], [(2,2),(2,3)], \n",
    "            [(3,3),(3,2)], [(4,3),(3,3)], [(2,3),(2,4)],\n",
    "        ]\n",
    "\n",
    "        obstacles = upper_edges + lower_edges + right_edges + left_edges + walls\n",
    "\n",
    "        for src, dst in obstacles:\n",
    "            maze[src].remove(dst)\n",
    "\n",
    "            if dst in maze: #this part is removing the source from the destination\n",
    "                maze[dst].remove(src)\n",
    "        return maze\n",
    "    \n",
    "    def step(self, action: int) -> Tuple[Tuple[int, int], float, bool, Dict]: #returns the next state, reward, if game is done, and additional info\n",
    "        reward = self.compute_reward(self.state, action)\n",
    "        self.state = self._get_next_state(self.state, action)\n",
    "        done = self.state == self.goal\n",
    "        info = {}\n",
    "        return self.state, reward, done, info\n",
    "\n",
    "    def compute_reward(self, state: Tuple[int,int], action: int) -> float:\n",
    "        next_state = self._get_next_state(state,action)\n",
    "\n",
    "\n",
    "    def _get_next_state(self, state: Tuple[int, int], action: int) -> Tuple[int,int]:\n",
    "        if action == 0:\n",
    "            next_state = (state[0] - 1, state[1])\n",
    "        elif action == 1:\n",
    "            next_state = (state[0], state[1] + 1)\n",
    "        elif action == 2:\n",
    "            next_state = (state[0] + 1, state[1])\n",
    "        elif action == 3:\n",
    "            next_state = (state[0], state[1] - 1)\n",
    "        else:\n",
    "            raise ValueError(\"Incorrect Action: \",action)\n",
    "\n",
    "        if next_state in self.maze[state]:\n",
    "            return next_state\n",
    "        \n",
    "        return state\n",
    "    \n",
    "    def simulate_step(self, state: Tuple[int,int], action: int):\n",
    "        reward = self.compute_reward(self.state, action)\n",
    "        next_state = self._get_next_state(self.state, action)\n",
    "        done = self.state == self.goal\n",
    "        info = {}\n",
    "        return next_state, reward, done, info\n",
    "    "
   ]
  },
  {
   "cell_type": "code",
   "execution_count": 24,
   "metadata": {},
   "outputs": [
    {
     "name": "stdout",
     "output_type": "stream",
     "text": [
      "[(4, 4), (4, 2), (4, 1), (4, 0), (3, 4), (3, 3), (3, 2), (3, 1), (3, 0), (2, 4), (2, 3), (4, 3), (0, 0), (2, 0), (1, 4), (1, 3), (1, 2), (1, 1), (1, 0), (0, 4), (0, 3), (0, 2), (0, 1), (2, 1), (2, 2)]\n",
      "[(4, 4), (3, 4), (4, 3), (4, 2), (4, 1), (4, 0), (3, 3), (3, 2), (3, 1), (3, 0), (2, 4), (2, 3), (0, 0), (2, 0), (1, 4), (1, 3), (1, 2), (1, 1), (1, 0), (0, 4), (0, 3), (0, 2), (0, 1), (2, 1), (2, 2)]\n",
      "[(4, 4), (3, 4), (4, 3), (3, 3), (2, 4), (4, 2), (4, 1), (4, 0), (3, 2), (3, 1), (3, 0), (2, 3), (0, 0), (2, 0), (1, 4), (1, 3), (1, 2), (1, 1), (1, 0), (0, 4), (0, 3), (0, 2), (0, 1), (2, 1), (2, 2)]\n",
      "[(4, 4), (3, 4), (4, 3), (4, 2), (3, 3), (2, 4), (4, 1), (4, 0), (3, 2), (3, 1), (3, 0), (2, 3), (0, 0), (2, 0), (1, 4), (1, 3), (1, 2), (1, 1), (1, 0), (0, 4), (0, 3), (0, 2), (0, 1), (2, 1), (2, 2)]\n",
      "[(4, 4), (3, 4), (4, 3), (4, 2), (3, 3), (2, 4), (4, 1), (3, 2), (4, 0), (3, 1), (3, 0), (2, 3), (0, 0), (2, 0), (1, 4), (1, 3), (1, 2), (1, 1), (1, 0), (0, 4), (0, 3), (0, 2), (0, 1), (2, 1), (2, 2)]\n",
      "[(4, 4), (3, 4), (4, 3), (4, 2), (3, 3), (2, 4), (4, 1), (3, 2), (2, 3), (4, 0), (3, 1), (3, 0), (0, 0), (2, 0), (1, 4), (1, 3), (1, 2), (1, 1), (1, 0), (0, 4), (0, 3), (0, 2), (0, 1), (2, 1), (2, 2)]\n",
      "[(4, 4), (3, 4), (4, 3), (4, 2), (3, 3), (2, 4), (4, 1), (3, 2), (1, 4), (2, 3), (4, 0), (3, 1), (3, 0), (0, 0), (2, 0), (1, 3), (1, 2), (1, 1), (1, 0), (0, 4), (0, 3), (0, 2), (0, 1), (2, 1), (2, 2)]\n",
      "[(4, 4), (3, 4), (4, 3), (4, 2), (3, 3), (2, 4), (4, 1), (3, 2), (1, 4), (2, 3), (4, 0), (3, 1), (3, 0), (0, 0), (2, 0), (1, 3), (1, 2), (1, 1), (1, 0), (0, 4), (0, 3), (0, 2), (0, 1), (2, 1), (2, 2)]\n",
      "[(4, 4), (3, 4), (4, 3), (4, 2), (3, 3), (2, 4), (4, 1), (3, 2), (2, 3), (1, 4), (4, 0), (2, 2), (2, 0), (1, 3), (1, 2), (3, 0), (3, 1), (1, 1), (1, 0), (0, 4), (0, 3), (0, 2), (0, 1), (2, 1), (0, 0)]\n",
      "[(4, 4), (3, 4), (4, 3), (4, 2), (3, 3), (2, 4), (4, 1), (3, 2), (2, 3), (1, 4), (4, 0), (2, 2), (1, 3), (2, 0), (1, 2), (3, 0), (3, 1), (1, 1), (1, 0), (0, 4), (0, 3), (0, 2), (0, 1), (2, 1), (0, 0)]\n",
      "[(4, 4), (3, 4), (4, 3), (4, 2), (3, 3), (2, 4), (4, 1), (3, 2), (2, 3), (1, 4), (4, 0), (2, 2), (1, 3), (0, 4), (2, 0), (1, 2), (3, 0), (3, 1), (1, 1), (1, 0), (0, 3), (0, 2), (0, 1), (2, 1), (0, 0)]\n",
      "[(4, 4), (3, 4), (4, 3), (4, 2), (3, 3), (2, 4), (4, 1), (3, 2), (2, 3), (1, 4), (4, 0), (2, 2), (1, 3), (0, 4), (2, 0), (1, 2), (3, 0), (3, 1), (1, 1), (1, 0), (0, 3), (0, 2), (0, 1), (2, 1), (0, 0)]\n",
      "[(4, 4), (3, 4), (4, 3), (4, 2), (3, 3), (2, 4), (4, 1), (3, 2), (2, 3), (1, 4), (4, 0), (2, 2), (1, 3), (0, 4), (1, 2), (2, 0), (3, 0), (3, 1), (1, 1), (1, 0), (0, 3), (0, 2), (0, 1), (2, 1), (0, 0)]\n",
      "[(4, 4), (3, 4), (4, 3), (4, 2), (3, 3), (2, 4), (4, 1), (3, 2), (2, 3), (1, 4), (4, 0), (2, 2), (1, 3), (0, 4), (1, 2), (0, 3), (2, 0), (3, 0), (3, 1), (1, 1), (1, 0), (0, 2), (0, 1), (2, 1), (0, 0)]\n",
      "[(4, 4), (3, 4), (4, 3), (4, 2), (3, 3), (2, 4), (4, 1), (3, 2), (2, 3), (1, 4), (4, 0), (2, 2), (1, 3), (0, 4), (1, 2), (0, 3), (2, 0), (3, 0), (3, 1), (1, 1), (1, 0), (0, 2), (0, 1), (2, 1), (0, 0)]\n",
      "[(4, 4), (3, 4), (4, 3), (4, 2), (3, 3), (2, 4), (4, 1), (3, 2), (2, 3), (1, 4), (4, 0), (2, 2), (1, 3), (0, 4), (1, 2), (0, 3), (1, 1), (2, 0), (3, 0), (3, 1), (1, 0), (0, 2), (0, 1), (2, 1), (0, 0)]\n",
      "[(4, 4), (3, 4), (4, 3), (4, 2), (3, 3), (2, 4), (4, 1), (3, 2), (2, 3), (1, 4), (4, 0), (2, 2), (1, 3), (0, 4), (1, 2), (0, 3), (1, 1), (0, 2), (2, 0), (3, 0), (3, 1), (1, 0), (0, 1), (2, 1), (0, 0)]\n",
      "[(4, 4), (3, 4), (4, 3), (4, 2), (3, 3), (2, 4), (4, 1), (3, 2), (2, 3), (1, 4), (4, 0), (2, 2), (1, 3), (0, 4), (1, 2), (0, 3), (1, 1), (0, 2), (2, 1), (2, 0), (3, 0), (3, 1), (1, 0), (0, 1), (0, 0)]\n",
      "[(4, 4), (3, 4), (4, 3), (4, 2), (3, 3), (2, 4), (4, 1), (3, 2), (2, 3), (1, 4), (4, 0), (2, 2), (1, 3), (0, 4), (1, 2), (0, 3), (1, 1), (0, 2), (0, 1), (2, 1), (2, 0), (3, 0), (3, 1), (1, 0), (0, 0)]\n",
      "[(4, 4), (3, 4), (4, 3), (4, 2), (3, 3), (2, 4), (4, 1), (3, 2), (2, 3), (1, 4), (4, 0), (2, 2), (1, 3), (0, 4), (1, 2), (0, 3), (1, 1), (0, 2), (0, 1), (2, 1), (0, 0), (2, 0), (3, 0), (3, 1), (1, 0)]\n",
      "[(4, 4), (3, 4), (4, 3), (4, 2), (3, 3), (2, 4), (4, 1), (3, 2), (2, 3), (1, 4), (4, 0), (2, 2), (1, 3), (0, 4), (1, 2), (0, 3), (1, 1), (0, 2), (0, 1), (2, 1), (3, 1), (0, 0), (2, 0), (3, 0), (1, 0)]\n",
      "[(4, 4), (3, 4), (4, 3), (4, 2), (3, 3), (2, 4), (4, 1), (3, 2), (2, 3), (1, 4), (4, 0), (2, 2), (1, 3), (0, 4), (1, 2), (0, 3), (1, 1), (0, 2), (0, 1), (2, 1), (3, 1), (0, 0), (3, 0), (2, 0), (1, 0)]\n",
      "[(4, 4), (3, 4), (4, 3), (4, 2), (3, 3), (2, 4), (4, 1), (3, 2), (2, 3), (1, 4), (4, 0), (2, 2), (1, 3), (0, 4), (1, 2), (0, 3), (1, 1), (0, 2), (0, 1), (2, 1), (3, 1), (0, 0), (3, 0), (1, 0), (2, 0)]\n",
      "[(4, 4), (3, 4), (4, 3), (4, 2), (3, 3), (2, 4), (4, 1), (3, 2), (2, 3), (1, 4), (4, 0), (2, 2), (1, 3), (0, 4), (1, 2), (0, 3), (1, 1), (0, 2), (0, 1), (2, 1), (3, 1), (0, 0), (3, 0), (1, 0), (2, 0)]\n",
      "[(4, 4), (3, 4), (4, 3), (4, 2), (3, 3), (2, 4), (4, 1), (3, 2), (2, 3), (1, 4), (4, 0), (2, 2), (1, 3), (0, 4), (1, 2), (0, 3), (1, 1), (0, 2), (0, 1), (2, 1), (3, 1), (0, 0), (3, 0), (1, 0), (2, 0)]\n"
     ]
    }
   ],
   "source": [
    "env = Maze()"
   ]
  },
  {
   "cell_type": "code",
   "execution_count": 25,
   "metadata": {},
   "outputs": [
    {
     "name": "stdout",
     "output_type": "stream",
     "text": [
      "{(0, 0): [(1, 0), (0, 1)],\n",
      " (0, 1): [(0, 0), (0, 2)],\n",
      " (0, 2): [(0, 1), (0, 3)],\n",
      " (0, 3): [(1, 3), (0, 2)],\n",
      " (0, 4): [(1, 4)],\n",
      " (1, 0): [(0, 0), (2, 0)],\n",
      " (1, 1): [(2, 1), (1, 2)],\n",
      " (1, 2): [(2, 2), (1, 1)],\n",
      " (1, 3): [(0, 3), (2, 3)],\n",
      " (1, 4): [(0, 4), (2, 4)],\n",
      " (2, 0): [(1, 0), (3, 0)],\n",
      " (2, 1): [(1, 1), (3, 1)],\n",
      " (2, 2): [(1, 2), (3, 2)],\n",
      " (2, 3): [(1, 3), (3, 3)],\n",
      " (2, 4): [(1, 4), (3, 4)],\n",
      " (3, 0): [(2, 0), (3, 1)],\n",
      " (3, 1): [(2, 1), (3, 0)],\n",
      " (3, 2): [(2, 2), (4, 2)],\n",
      " (3, 3): [(2, 3), (3, 4)],\n",
      " (3, 4): [(2, 4), (4, 4), (3, 3)],\n",
      " (4, 0): [(4, 1)],\n",
      " (4, 1): [(4, 0), (4, 2)],\n",
      " (4, 2): [(3, 2), (4, 1), (4, 3)],\n",
      " (4, 3): [(4, 2), (4, 4)],\n",
      " (4, 4): [(3, 4), (4, 3)]}\n"
     ]
    }
   ],
   "source": [
    "pprint(env.maze) # basically for taking any action ,0,1,2,3 we have the next state."
   ]
  },
  {
   "cell_type": "code",
   "execution_count": null,
   "metadata": {},
   "outputs": [],
   "source": []
  },
  {
   "cell_type": "code",
   "execution_count": null,
   "metadata": {},
   "outputs": [],
   "source": []
  }
 ],
 "metadata": {
  "kernelspec": {
   "display_name": "gym",
   "language": "python",
   "name": "python3"
  },
  "language_info": {
   "codemirror_mode": {
    "name": "ipython",
    "version": 3
   },
   "file_extension": ".py",
   "mimetype": "text/x-python",
   "name": "python",
   "nbconvert_exporter": "python",
   "pygments_lexer": "ipython3",
   "version": "3.12.1"
  }
 },
 "nbformat": 4,
 "nbformat_minor": 2
}
